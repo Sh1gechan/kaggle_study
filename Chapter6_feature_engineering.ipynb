{
 "cells": [
  {
   "cell_type": "code",
   "execution_count": 27,
   "metadata": {},
   "outputs": [],
   "source": [
    "%matplotlib inline\n",
    "import matplotlib.pyplot as plt\n"
   ]
  },
  {
   "cell_type": "code",
   "execution_count": null,
   "metadata": {},
   "outputs": [],
   "source": [
    "# 日付データの特徴量\n",
    "import pandas as pd\n",
    "# 10時間の頻度の datetime 列\n",
    "s = pd.date_range(\"2020-01-06\", \"2020-01-10\", freq=\"10H\").to_series()"
   ]
  },
  {
   "cell_type": "code",
   "execution_count": 11,
   "metadata": {},
   "outputs": [
    {
     "name": "stderr",
     "output_type": "stream",
     "text": [
      "C:\\Users\\rebor\\AppData\\Local\\Temp\\ipykernel_16216\\3496197773.py:8: FutureWarning: Series.dt.weekofyear and Series.dt.week have been deprecated. Please use Series.dt.isocalendar().week instead.\n",
      "  \"weekofyear\": s.dt.weekofyear.values\n"
     ]
    }
   ],
   "source": [
    "# datetime から特徴量を\n",
    "features = {\n",
    "    \"dayofweek\": s.dt.dayofweek.values,\n",
    "    \"dayofyear\": s.dt.dayofyear.values,\n",
    "    \"hour\": s.dt.hour.values,\n",
    "    \"is_leap_year\": s.dt.is_leap_year.values,\n",
    "    \"quater\": s.dt.quarter.values,\n",
    "    \"weekofyear\": s.dt.weekofyear.values\n",
    "}"
   ]
  },
  {
   "cell_type": "code",
   "execution_count": 12,
   "metadata": {},
   "outputs": [
    {
     "data": {
      "text/plain": [
       "{'dayofweek': array([0, 0, 0, 1, 1, 2, 2, 2, 3, 3], dtype=int64),\n",
       " 'dayofyear': array([6, 6, 6, 7, 7, 8, 8, 8, 9, 9], dtype=int64),\n",
       " 'hour': array([ 0, 10, 20,  6, 16,  2, 12, 22,  8, 18], dtype=int64),\n",
       " 'is_leap_year': array([ True,  True,  True,  True,  True,  True,  True,  True,  True,\n",
       "         True]),\n",
       " 'quater': array([1, 1, 1, 1, 1, 1, 1, 1, 1, 1], dtype=int64),\n",
       " 'weekofyear': array([2, 2, 2, 2, 2, 2, 2, 2, 2, 2], dtype=int64)}"
      ]
     },
     "execution_count": 12,
     "metadata": {},
     "output_type": "execute_result"
    }
   ],
   "source": [
    "features"
   ]
  },
  {
   "cell_type": "code",
   "execution_count": 13,
   "metadata": {},
   "outputs": [],
   "source": [
    "# p.147 のデータがないため作成\n",
    "example_df = pd.DataFrame([\n",
    "  {\n",
    "    \"date\": \"2016-09-01\",\n",
    "    \"customer_id\": 146361,\n",
    "    \"cat1\": 2,\n",
    "    \"cat2\": 2,\n",
    "    \"cat3\": 0,\n",
    "    \"num1\": -0.518679\n",
    "  },\n",
    "  {\n",
    "    \"date\": \"2017-04-01\",\n",
    "    \"customer_id\": 180838,\n",
    "    \"cat1\": 4,\n",
    "    \"cat2\": 1,\n",
    "    \"cat3\": 0,\n",
    "    \"num1\": 0.415853\n",
    "  },\n",
    "  {\n",
    "    \"date\": \"2017-08-01\",\n",
    "    \"customer_id\": 157857,\n",
    "    \"cat1\": 3,\n",
    "    \"cat2\": 3,\n",
    "    \"cat3\": 1,\n",
    "    \"num1\": -2.061687\n",
    "  },\n",
    "  {\n",
    "    \"date\": \"2017-12-01\",\n",
    "    \"customer_id\": 159772,\n",
    "    \"cat1\": 5,\n",
    "    \"cat2\": 1,\n",
    "    \"cat3\": 1,\n",
    "    \"num1\": -0.276558\n",
    "  },\n",
    "  {\n",
    "    \"date\": \"2017-09-01\",\n",
    "    \"customer_id\": 80014,\n",
    "    \"cat1\": 3,\n",
    "    \"cat2\": 2,\n",
    "    \"cat3\": 1,\n",
    "    \"num1\": -1.456827\n",
    "  }\n",
    "])"
   ]
  },
  {
   "cell_type": "code",
   "execution_count": 14,
   "metadata": {},
   "outputs": [
    {
     "data": {
      "text/html": [
       "<div>\n",
       "<style scoped>\n",
       "    .dataframe tbody tr th:only-of-type {\n",
       "        vertical-align: middle;\n",
       "    }\n",
       "\n",
       "    .dataframe tbody tr th {\n",
       "        vertical-align: top;\n",
       "    }\n",
       "\n",
       "    .dataframe thead th {\n",
       "        text-align: right;\n",
       "    }\n",
       "</style>\n",
       "<table border=\"1\" class=\"dataframe\">\n",
       "  <thead>\n",
       "    <tr style=\"text-align: right;\">\n",
       "      <th></th>\n",
       "      <th>date</th>\n",
       "      <th>customer_id</th>\n",
       "      <th>cat1</th>\n",
       "      <th>cat2</th>\n",
       "      <th>cat3</th>\n",
       "      <th>num1</th>\n",
       "    </tr>\n",
       "  </thead>\n",
       "  <tbody>\n",
       "    <tr>\n",
       "      <th>0</th>\n",
       "      <td>2016-09-01</td>\n",
       "      <td>146361</td>\n",
       "      <td>2</td>\n",
       "      <td>2</td>\n",
       "      <td>0</td>\n",
       "      <td>-0.518679</td>\n",
       "    </tr>\n",
       "    <tr>\n",
       "      <th>1</th>\n",
       "      <td>2017-04-01</td>\n",
       "      <td>180838</td>\n",
       "      <td>4</td>\n",
       "      <td>1</td>\n",
       "      <td>0</td>\n",
       "      <td>0.415853</td>\n",
       "    </tr>\n",
       "    <tr>\n",
       "      <th>2</th>\n",
       "      <td>2017-08-01</td>\n",
       "      <td>157857</td>\n",
       "      <td>3</td>\n",
       "      <td>3</td>\n",
       "      <td>1</td>\n",
       "      <td>-2.061687</td>\n",
       "    </tr>\n",
       "    <tr>\n",
       "      <th>3</th>\n",
       "      <td>2017-12-01</td>\n",
       "      <td>159772</td>\n",
       "      <td>5</td>\n",
       "      <td>1</td>\n",
       "      <td>1</td>\n",
       "      <td>-0.276558</td>\n",
       "    </tr>\n",
       "    <tr>\n",
       "      <th>4</th>\n",
       "      <td>2017-09-01</td>\n",
       "      <td>80014</td>\n",
       "      <td>3</td>\n",
       "      <td>2</td>\n",
       "      <td>1</td>\n",
       "      <td>-1.456827</td>\n",
       "    </tr>\n",
       "  </tbody>\n",
       "</table>\n",
       "</div>"
      ],
      "text/plain": [
       "         date  customer_id  cat1  cat2  cat3      num1\n",
       "0  2016-09-01       146361     2     2     0 -0.518679\n",
       "1  2017-04-01       180838     4     1     0  0.415853\n",
       "2  2017-08-01       157857     3     3     1 -2.061687\n",
       "3  2017-12-01       159772     5     1     1 -0.276558\n",
       "4  2017-09-01        80014     3     2     1 -1.456827"
      ]
     },
     "execution_count": 14,
     "metadata": {},
     "output_type": "execute_result"
    }
   ],
   "source": [
    "example_df.head()"
   ]
  },
  {
   "cell_type": "code",
   "execution_count": 18,
   "metadata": {},
   "outputs": [],
   "source": [
    "def genearate_features(df: pd.DataFrame):\n",
    "    # date列から特徴量抽出\n",
    "    df.loc[:, \"year\"] = df[\"date\"].dt.year\n",
    "    df.loc[:, \"weekofyear\"] = df[\"date\"].dt.weekofyear\n",
    "    df.loc[:, \"month\"] = df[\"date\"].dt.month\n",
    "    df.loc[:, \"dayofweek\"] = df[\"date\"].dt.dayofweek\n",
    "    df.loc[:, \"weekend\"] = (df[\"date\"].dt.weekday >= 5).astype(int)\n",
    "    \n",
    "    # 集約用の辞書\n",
    "    aggs = {}\n",
    "    # 月と曜日を対象にした種類数と平均の算出\n",
    "    aggs[\"month\"] = [\"nunique\", \"mean\"]\n",
    "    aggs[\"weekofyear\"] = [\"nunique\", \"mean\"]\n",
    "    # num1を対象に合計・最大・最小・平均の算出\n",
    "    aggs[\"num1\"] = [\"sum\", \"max\", \"min\", \"mean\"]\n",
    "    # customer_idを対象にした登場回数の算出\n",
    "    aggs[\"customer_id\"] = [\"size\"]\n",
    "    # customer_idを対象にした種類数の算出\n",
    "    aggs[\"customer_id\"] = [\"nunique\"]\n",
    "    \n",
    "    # customer_id を軸に集約\n",
    "    agg_df = df.groupby(\"customer_id\").agg(aggs)\n",
    "    agg_df = agg_df.reset_index()\n",
    "    return agg_df"
   ]
  },
  {
   "cell_type": "code",
   "execution_count": 19,
   "metadata": {},
   "outputs": [],
   "source": [
    "example_df[\"date\"] = pd.to_datetime(example_df[\"date\"])"
   ]
  },
  {
   "cell_type": "code",
   "execution_count": 20,
   "metadata": {},
   "outputs": [
    {
     "name": "stderr",
     "output_type": "stream",
     "text": [
      "C:\\Users\\rebor\\AppData\\Local\\Temp\\ipykernel_16216\\4292702500.py:4: FutureWarning: Series.dt.weekofyear and Series.dt.week have been deprecated. Please use Series.dt.isocalendar().week instead.\n",
      "  df.loc[:, \"weekofyear\"] = df[\"date\"].dt.weekofyear\n"
     ]
    }
   ],
   "source": [
    "example_result = genearate_features(example_df)"
   ]
  },
  {
   "cell_type": "code",
   "execution_count": 21,
   "metadata": {},
   "outputs": [
    {
     "data": {
      "text/html": [
       "<div>\n",
       "<style scoped>\n",
       "    .dataframe tbody tr th:only-of-type {\n",
       "        vertical-align: middle;\n",
       "    }\n",
       "\n",
       "    .dataframe tbody tr th {\n",
       "        vertical-align: top;\n",
       "    }\n",
       "\n",
       "    .dataframe thead tr th {\n",
       "        text-align: left;\n",
       "    }\n",
       "</style>\n",
       "<table border=\"1\" class=\"dataframe\">\n",
       "  <thead>\n",
       "    <tr>\n",
       "      <th></th>\n",
       "      <th>customer_id</th>\n",
       "      <th colspan=\"2\" halign=\"left\">month</th>\n",
       "      <th colspan=\"2\" halign=\"left\">weekofyear</th>\n",
       "      <th colspan=\"4\" halign=\"left\">num1</th>\n",
       "      <th>customer_id</th>\n",
       "    </tr>\n",
       "    <tr>\n",
       "      <th></th>\n",
       "      <th></th>\n",
       "      <th>nunique</th>\n",
       "      <th>mean</th>\n",
       "      <th>nunique</th>\n",
       "      <th>mean</th>\n",
       "      <th>sum</th>\n",
       "      <th>max</th>\n",
       "      <th>min</th>\n",
       "      <th>mean</th>\n",
       "      <th>nunique</th>\n",
       "    </tr>\n",
       "  </thead>\n",
       "  <tbody>\n",
       "    <tr>\n",
       "      <th>0</th>\n",
       "      <td>80014</td>\n",
       "      <td>1</td>\n",
       "      <td>9.0</td>\n",
       "      <td>1</td>\n",
       "      <td>35.0</td>\n",
       "      <td>-1.456827</td>\n",
       "      <td>-1.456827</td>\n",
       "      <td>-1.456827</td>\n",
       "      <td>-1.456827</td>\n",
       "      <td>1</td>\n",
       "    </tr>\n",
       "    <tr>\n",
       "      <th>1</th>\n",
       "      <td>146361</td>\n",
       "      <td>1</td>\n",
       "      <td>9.0</td>\n",
       "      <td>1</td>\n",
       "      <td>35.0</td>\n",
       "      <td>-0.518679</td>\n",
       "      <td>-0.518679</td>\n",
       "      <td>-0.518679</td>\n",
       "      <td>-0.518679</td>\n",
       "      <td>1</td>\n",
       "    </tr>\n",
       "    <tr>\n",
       "      <th>2</th>\n",
       "      <td>157857</td>\n",
       "      <td>1</td>\n",
       "      <td>8.0</td>\n",
       "      <td>1</td>\n",
       "      <td>31.0</td>\n",
       "      <td>-2.061687</td>\n",
       "      <td>-2.061687</td>\n",
       "      <td>-2.061687</td>\n",
       "      <td>-2.061687</td>\n",
       "      <td>1</td>\n",
       "    </tr>\n",
       "    <tr>\n",
       "      <th>3</th>\n",
       "      <td>159772</td>\n",
       "      <td>1</td>\n",
       "      <td>12.0</td>\n",
       "      <td>1</td>\n",
       "      <td>48.0</td>\n",
       "      <td>-0.276558</td>\n",
       "      <td>-0.276558</td>\n",
       "      <td>-0.276558</td>\n",
       "      <td>-0.276558</td>\n",
       "      <td>1</td>\n",
       "    </tr>\n",
       "    <tr>\n",
       "      <th>4</th>\n",
       "      <td>180838</td>\n",
       "      <td>1</td>\n",
       "      <td>4.0</td>\n",
       "      <td>1</td>\n",
       "      <td>13.0</td>\n",
       "      <td>0.415853</td>\n",
       "      <td>0.415853</td>\n",
       "      <td>0.415853</td>\n",
       "      <td>0.415853</td>\n",
       "      <td>1</td>\n",
       "    </tr>\n",
       "  </tbody>\n",
       "</table>\n",
       "</div>"
      ],
      "text/plain": [
       "  customer_id   month       weekofyear            num1                      \\\n",
       "              nunique  mean    nunique  mean       sum       max       min   \n",
       "0       80014       1   9.0          1  35.0 -1.456827 -1.456827 -1.456827   \n",
       "1      146361       1   9.0          1  35.0 -0.518679 -0.518679 -0.518679   \n",
       "2      157857       1   8.0          1  31.0 -2.061687 -2.061687 -2.061687   \n",
       "3      159772       1  12.0          1  48.0 -0.276558 -0.276558 -0.276558   \n",
       "4      180838       1   4.0          1  13.0  0.415853  0.415853  0.415853   \n",
       "\n",
       "            customer_id  \n",
       "       mean     nunique  \n",
       "0 -1.456827           1  \n",
       "1 -0.518679           1  \n",
       "2 -2.061687           1  \n",
       "3 -0.276558           1  \n",
       "4  0.415853           1  "
      ]
     },
     "execution_count": 21,
     "metadata": {},
     "output_type": "execute_result"
    }
   ],
   "source": [
    "example_result.head()"
   ]
  },
  {
   "cell_type": "code",
   "execution_count": 22,
   "metadata": {},
   "outputs": [
    {
     "data": {
      "text/html": [
       "<div>\n",
       "<style scoped>\n",
       "    .dataframe tbody tr th:only-of-type {\n",
       "        vertical-align: middle;\n",
       "    }\n",
       "\n",
       "    .dataframe tbody tr th {\n",
       "        vertical-align: top;\n",
       "    }\n",
       "\n",
       "    .dataframe thead th {\n",
       "        text-align: right;\n",
       "    }\n",
       "</style>\n",
       "<table border=\"1\" class=\"dataframe\">\n",
       "  <thead>\n",
       "    <tr style=\"text-align: right;\">\n",
       "      <th></th>\n",
       "      <th>f_1</th>\n",
       "      <th>f_2</th>\n",
       "    </tr>\n",
       "  </thead>\n",
       "  <tbody>\n",
       "    <tr>\n",
       "      <th>0</th>\n",
       "      <td>0.341133</td>\n",
       "      <td>0.413780</td>\n",
       "    </tr>\n",
       "    <tr>\n",
       "      <th>1</th>\n",
       "      <td>0.646057</td>\n",
       "      <td>0.463914</td>\n",
       "    </tr>\n",
       "    <tr>\n",
       "      <th>2</th>\n",
       "      <td>0.418842</td>\n",
       "      <td>0.592280</td>\n",
       "    </tr>\n",
       "    <tr>\n",
       "      <th>3</th>\n",
       "      <td>0.442733</td>\n",
       "      <td>0.697253</td>\n",
       "    </tr>\n",
       "    <tr>\n",
       "      <th>4</th>\n",
       "      <td>0.872779</td>\n",
       "      <td>0.900086</td>\n",
       "    </tr>\n",
       "  </tbody>\n",
       "</table>\n",
       "</div>"
      ],
      "text/plain": [
       "        f_1       f_2\n",
       "0  0.341133  0.413780\n",
       "1  0.646057  0.463914\n",
       "2  0.418842  0.592280\n",
       "3  0.442733  0.697253\n",
       "4  0.872779  0.900086"
      ]
     },
     "execution_count": 22,
     "metadata": {},
     "output_type": "execute_result"
    }
   ],
   "source": [
    "import numpy as np\n",
    "# 100行2列の [0,1) の一様分布乱数のデータフレーム\n",
    "df = pd.DataFrame(\n",
    "    np.random.rand(100, 2),\n",
    "    columns=[f\"f_{i}\" for i in range(1, 3)]\n",
    ")\n",
    "df.head()"
   ]
  },
  {
   "cell_type": "code",
   "execution_count": 23,
   "metadata": {},
   "outputs": [
    {
     "data": {
      "text/html": [
       "<style>#sk-container-id-1 {color: black;background-color: white;}#sk-container-id-1 pre{padding: 0;}#sk-container-id-1 div.sk-toggleable {background-color: white;}#sk-container-id-1 label.sk-toggleable__label {cursor: pointer;display: block;width: 100%;margin-bottom: 0;padding: 0.3em;box-sizing: border-box;text-align: center;}#sk-container-id-1 label.sk-toggleable__label-arrow:before {content: \"▸\";float: left;margin-right: 0.25em;color: #696969;}#sk-container-id-1 label.sk-toggleable__label-arrow:hover:before {color: black;}#sk-container-id-1 div.sk-estimator:hover label.sk-toggleable__label-arrow:before {color: black;}#sk-container-id-1 div.sk-toggleable__content {max-height: 0;max-width: 0;overflow: hidden;text-align: left;background-color: #f0f8ff;}#sk-container-id-1 div.sk-toggleable__content pre {margin: 0.2em;color: black;border-radius: 0.25em;background-color: #f0f8ff;}#sk-container-id-1 input.sk-toggleable__control:checked~div.sk-toggleable__content {max-height: 200px;max-width: 100%;overflow: auto;}#sk-container-id-1 input.sk-toggleable__control:checked~label.sk-toggleable__label-arrow:before {content: \"▾\";}#sk-container-id-1 div.sk-estimator input.sk-toggleable__control:checked~label.sk-toggleable__label {background-color: #d4ebff;}#sk-container-id-1 div.sk-label input.sk-toggleable__control:checked~label.sk-toggleable__label {background-color: #d4ebff;}#sk-container-id-1 input.sk-hidden--visually {border: 0;clip: rect(1px 1px 1px 1px);clip: rect(1px, 1px, 1px, 1px);height: 1px;margin: -1px;overflow: hidden;padding: 0;position: absolute;width: 1px;}#sk-container-id-1 div.sk-estimator {font-family: monospace;background-color: #f0f8ff;border: 1px dotted black;border-radius: 0.25em;box-sizing: border-box;margin-bottom: 0.5em;}#sk-container-id-1 div.sk-estimator:hover {background-color: #d4ebff;}#sk-container-id-1 div.sk-parallel-item::after {content: \"\";width: 100%;border-bottom: 1px solid gray;flex-grow: 1;}#sk-container-id-1 div.sk-label:hover label.sk-toggleable__label {background-color: #d4ebff;}#sk-container-id-1 div.sk-serial::before {content: \"\";position: absolute;border-left: 1px solid gray;box-sizing: border-box;top: 0;bottom: 0;left: 50%;z-index: 0;}#sk-container-id-1 div.sk-serial {display: flex;flex-direction: column;align-items: center;background-color: white;padding-right: 0.2em;padding-left: 0.2em;position: relative;}#sk-container-id-1 div.sk-item {position: relative;z-index: 1;}#sk-container-id-1 div.sk-parallel {display: flex;align-items: stretch;justify-content: center;background-color: white;position: relative;}#sk-container-id-1 div.sk-item::before, #sk-container-id-1 div.sk-parallel-item::before {content: \"\";position: absolute;border-left: 1px solid gray;box-sizing: border-box;top: 0;bottom: 0;left: 50%;z-index: -1;}#sk-container-id-1 div.sk-parallel-item {display: flex;flex-direction: column;z-index: 1;position: relative;background-color: white;}#sk-container-id-1 div.sk-parallel-item:first-child::after {align-self: flex-end;width: 50%;}#sk-container-id-1 div.sk-parallel-item:last-child::after {align-self: flex-start;width: 50%;}#sk-container-id-1 div.sk-parallel-item:only-child::after {width: 0;}#sk-container-id-1 div.sk-dashed-wrapped {border: 1px dashed gray;margin: 0 0.4em 0.5em 0.4em;box-sizing: border-box;padding-bottom: 0.4em;background-color: white;}#sk-container-id-1 div.sk-label label {font-family: monospace;font-weight: bold;display: inline-block;line-height: 1.2em;}#sk-container-id-1 div.sk-label-container {text-align: center;}#sk-container-id-1 div.sk-container {/* jupyter's `normalize.less` sets `[hidden] { display: none; }` but bootstrap.min.css set `[hidden] { display: none !important; }` so we also need the `!important` here to be able to override the default hidden behavior on the sphinx rendered scikit-learn.org. See: https://github.com/scikit-learn/scikit-learn/issues/21755 */display: inline-block !important;position: relative;}#sk-container-id-1 div.sk-text-repr-fallback {display: none;}</style><div id=\"sk-container-id-1\" class=\"sk-top-container\"><div class=\"sk-text-repr-fallback\"><pre>PolynomialFeatures(include_bias=False)</pre><b>In a Jupyter environment, please rerun this cell to show the HTML representation or trust the notebook. <br />On GitHub, the HTML representation is unable to render, please try loading this page with nbviewer.org.</b></div><div class=\"sk-container\" hidden><div class=\"sk-item\"><div class=\"sk-estimator sk-toggleable\"><input class=\"sk-toggleable__control sk-hidden--visually\" id=\"sk-estimator-id-1\" type=\"checkbox\" checked><label for=\"sk-estimator-id-1\" class=\"sk-toggleable__label sk-toggleable__label-arrow\">PolynomialFeatures</label><div class=\"sk-toggleable__content\"><pre>PolynomialFeatures(include_bias=False)</pre></div></div></div></div></div>"
      ],
      "text/plain": [
       "PolynomialFeatures(include_bias=False)"
      ]
     },
     "execution_count": 23,
     "metadata": {},
     "output_type": "execute_result"
    }
   ],
   "source": [
    "# 2次の多項式特徴量（a, b, ab, a^2 b^2）を作成\n",
    "from sklearn import preprocessing\n",
    "pf = preprocessing.PolynomialFeatures(\n",
    "    degree=2,\n",
    "    interaction_only=False,\n",
    "    include_bias=False\n",
    ")\n",
    "pf.fit(df)"
   ]
  },
  {
   "cell_type": "code",
   "execution_count": 24,
   "metadata": {},
   "outputs": [
    {
     "data": {
      "text/plain": [
       "numpy.ndarray"
      ]
     },
     "execution_count": 24,
     "metadata": {},
     "output_type": "execute_result"
    }
   ],
   "source": [
    "poly_feats = pf.transform(df)\n",
    "type(poly_feats)"
   ]
  },
  {
   "cell_type": "code",
   "execution_count": 25,
   "metadata": {},
   "outputs": [
    {
     "data": {
      "text/html": [
       "<div>\n",
       "<style scoped>\n",
       "    .dataframe tbody tr th:only-of-type {\n",
       "        vertical-align: middle;\n",
       "    }\n",
       "\n",
       "    .dataframe tbody tr th {\n",
       "        vertical-align: top;\n",
       "    }\n",
       "\n",
       "    .dataframe thead th {\n",
       "        text-align: right;\n",
       "    }\n",
       "</style>\n",
       "<table border=\"1\" class=\"dataframe\">\n",
       "  <thead>\n",
       "    <tr style=\"text-align: right;\">\n",
       "      <th></th>\n",
       "      <th>f_1</th>\n",
       "      <th>f_2</th>\n",
       "      <th>f_3</th>\n",
       "      <th>f_4</th>\n",
       "      <th>f_5</th>\n",
       "    </tr>\n",
       "  </thead>\n",
       "  <tbody>\n",
       "    <tr>\n",
       "      <th>0</th>\n",
       "      <td>0.341133</td>\n",
       "      <td>0.413780</td>\n",
       "      <td>0.116372</td>\n",
       "      <td>0.141154</td>\n",
       "      <td>0.171214</td>\n",
       "    </tr>\n",
       "    <tr>\n",
       "      <th>1</th>\n",
       "      <td>0.646057</td>\n",
       "      <td>0.463914</td>\n",
       "      <td>0.417390</td>\n",
       "      <td>0.299715</td>\n",
       "      <td>0.215216</td>\n",
       "    </tr>\n",
       "    <tr>\n",
       "      <th>2</th>\n",
       "      <td>0.418842</td>\n",
       "      <td>0.592280</td>\n",
       "      <td>0.175429</td>\n",
       "      <td>0.248072</td>\n",
       "      <td>0.350796</td>\n",
       "    </tr>\n",
       "    <tr>\n",
       "      <th>3</th>\n",
       "      <td>0.442733</td>\n",
       "      <td>0.697253</td>\n",
       "      <td>0.196012</td>\n",
       "      <td>0.308697</td>\n",
       "      <td>0.486162</td>\n",
       "    </tr>\n",
       "    <tr>\n",
       "      <th>4</th>\n",
       "      <td>0.872779</td>\n",
       "      <td>0.900086</td>\n",
       "      <td>0.761743</td>\n",
       "      <td>0.785576</td>\n",
       "      <td>0.810154</td>\n",
       "    </tr>\n",
       "  </tbody>\n",
       "</table>\n",
       "</div>"
      ],
      "text/plain": [
       "        f_1       f_2       f_3       f_4       f_5\n",
       "0  0.341133  0.413780  0.116372  0.141154  0.171214\n",
       "1  0.646057  0.463914  0.417390  0.299715  0.215216\n",
       "2  0.418842  0.592280  0.175429  0.248072  0.350796\n",
       "3  0.442733  0.697253  0.196012  0.308697  0.486162\n",
       "4  0.872779  0.900086  0.761743  0.785576  0.810154"
      ]
     },
     "execution_count": 25,
     "metadata": {},
     "output_type": "execute_result"
    }
   ],
   "source": [
    "# DataFrame作成\n",
    "num_feats = poly_feats.shape[1]\n",
    "df_transformed = pd.DataFrame(poly_feats, columns=[f\"f_{i}\" for i in range(1, num_feats + 1)])\n",
    "df_transformed.head()"
   ]
  },
  {
   "cell_type": "code",
   "execution_count": 26,
   "metadata": {},
   "outputs": [
    {
     "data": {
      "text/html": [
       "<div>\n",
       "<style scoped>\n",
       "    .dataframe tbody tr th:only-of-type {\n",
       "        vertical-align: middle;\n",
       "    }\n",
       "\n",
       "    .dataframe tbody tr th {\n",
       "        vertical-align: top;\n",
       "    }\n",
       "\n",
       "    .dataframe thead th {\n",
       "        text-align: right;\n",
       "    }\n",
       "</style>\n",
       "<table border=\"1\" class=\"dataframe\">\n",
       "  <thead>\n",
       "    <tr style=\"text-align: right;\">\n",
       "      <th></th>\n",
       "      <th>f_1</th>\n",
       "      <th>f_2</th>\n",
       "      <th>f_bin_10</th>\n",
       "      <th>f_bin_100</th>\n",
       "    </tr>\n",
       "  </thead>\n",
       "  <tbody>\n",
       "    <tr>\n",
       "      <th>0</th>\n",
       "      <td>0.341133</td>\n",
       "      <td>0.413780</td>\n",
       "      <td>3</td>\n",
       "      <td>34</td>\n",
       "    </tr>\n",
       "    <tr>\n",
       "      <th>1</th>\n",
       "      <td>0.646057</td>\n",
       "      <td>0.463914</td>\n",
       "      <td>6</td>\n",
       "      <td>64</td>\n",
       "    </tr>\n",
       "    <tr>\n",
       "      <th>2</th>\n",
       "      <td>0.418842</td>\n",
       "      <td>0.592280</td>\n",
       "      <td>4</td>\n",
       "      <td>41</td>\n",
       "    </tr>\n",
       "    <tr>\n",
       "      <th>3</th>\n",
       "      <td>0.442733</td>\n",
       "      <td>0.697253</td>\n",
       "      <td>4</td>\n",
       "      <td>44</td>\n",
       "    </tr>\n",
       "    <tr>\n",
       "      <th>4</th>\n",
       "      <td>0.872779</td>\n",
       "      <td>0.900086</td>\n",
       "      <td>8</td>\n",
       "      <td>87</td>\n",
       "    </tr>\n",
       "  </tbody>\n",
       "</table>\n",
       "</div>"
      ],
      "text/plain": [
       "        f_1       f_2  f_bin_10  f_bin_100\n",
       "0  0.341133  0.413780         3         34\n",
       "1  0.646057  0.463914         6         64\n",
       "2  0.418842  0.592280         4         41\n",
       "3  0.442733  0.697253         4         44\n",
       "4  0.872779  0.900086         8         87"
      ]
     },
     "execution_count": 26,
     "metadata": {},
     "output_type": "execute_result"
    }
   ],
   "source": [
    "# 量的変数の列を10個のbinに分割\n",
    "df[\"f_bin_10\"] = pd.cut(df[\"f_1\"], bins=10, labels=False)\n",
    "# 量的変数の列を100個のビンに分割\n",
    "df[\"f_bin_100\"] = pd.cut(df[\"f_1\"], bins=100, labels=False)\n",
    "df.head()"
   ]
  },
  {
   "cell_type": "code",
   "execution_count": 29,
   "metadata": {},
   "outputs": [
    {
     "data": {
      "text/html": [
       "<div>\n",
       "<style scoped>\n",
       "    .dataframe tbody tr th:only-of-type {\n",
       "        vertical-align: middle;\n",
       "    }\n",
       "\n",
       "    .dataframe tbody tr th {\n",
       "        vertical-align: top;\n",
       "    }\n",
       "\n",
       "    .dataframe thead th {\n",
       "        text-align: right;\n",
       "    }\n",
       "</style>\n",
       "<table border=\"1\" class=\"dataframe\">\n",
       "  <thead>\n",
       "    <tr style=\"text-align: right;\">\n",
       "      <th></th>\n",
       "      <th>f_1</th>\n",
       "      <th>f_2</th>\n",
       "      <th>f_bin_10</th>\n",
       "      <th>f_bin_100</th>\n",
       "      <th>f_3</th>\n",
       "    </tr>\n",
       "  </thead>\n",
       "  <tbody>\n",
       "    <tr>\n",
       "      <th>0</th>\n",
       "      <td>0.341133</td>\n",
       "      <td>0.413780</td>\n",
       "      <td>3</td>\n",
       "      <td>34</td>\n",
       "      <td>185.0</td>\n",
       "    </tr>\n",
       "    <tr>\n",
       "      <th>1</th>\n",
       "      <td>0.646057</td>\n",
       "      <td>0.463914</td>\n",
       "      <td>6</td>\n",
       "      <td>64</td>\n",
       "      <td>6295.0</td>\n",
       "    </tr>\n",
       "    <tr>\n",
       "      <th>2</th>\n",
       "      <td>0.418842</td>\n",
       "      <td>0.592280</td>\n",
       "      <td>4</td>\n",
       "      <td>41</td>\n",
       "      <td>4532.0</td>\n",
       "    </tr>\n",
       "    <tr>\n",
       "      <th>3</th>\n",
       "      <td>0.442733</td>\n",
       "      <td>0.697253</td>\n",
       "      <td>4</td>\n",
       "      <td>44</td>\n",
       "      <td>864.0</td>\n",
       "    </tr>\n",
       "    <tr>\n",
       "      <th>4</th>\n",
       "      <td>0.872779</td>\n",
       "      <td>0.900086</td>\n",
       "      <td>8</td>\n",
       "      <td>87</td>\n",
       "      <td>9943.0</td>\n",
       "    </tr>\n",
       "  </tbody>\n",
       "</table>\n",
       "</div>"
      ],
      "text/plain": [
       "        f_1       f_2  f_bin_10  f_bin_100     f_3\n",
       "0  0.341133  0.413780         3         34   185.0\n",
       "1  0.646057  0.463914         6         64  6295.0\n",
       "2  0.418842  0.592280         4         41  4532.0\n",
       "3  0.442733  0.697253         4         44   864.0\n",
       "4  0.872779  0.900086         8         87  9943.0"
      ]
     },
     "execution_count": 29,
     "metadata": {},
     "output_type": "execute_result"
    }
   ],
   "source": [
    "# 分散の大きい特徴量を追加\n",
    "rng = np.random.default_rng()\n",
    "df[\"f_3\"] = np.round(rng.uniform(high=10000.0, size=(100, 1)))\n",
    "df.head()"
   ]
  },
  {
   "cell_type": "code",
   "execution_count": 30,
   "metadata": {},
   "outputs": [
    {
     "data": {
      "text/plain": [
       "(array([14., 12.,  4., 11., 10., 12.,  8., 11.,  8., 10.]),\n",
       " array([ 185. , 1160.8, 2136.6, 3112.4, 4088.2, 5064. , 6039.8, 7015.6,\n",
       "        7991.4, 8967.2, 9943. ]),\n",
       " <BarContainer object of 10 artists>)"
      ]
     },
     "execution_count": 30,
     "metadata": {},
     "output_type": "execute_result"
    },
    {
     "data": {
      "image/png": "[encoded data removed]",
      "text/plain": [
       "<Figure size 640x480 with 1 Axes>"
      ]
     },
     "metadata": {},
     "output_type": "display_data"
    }
   ],
   "source": [
    "plt.hist(df[\"f_3\"])"
   ]
  },
  {
   "cell_type": "code",
   "execution_count": 31,
   "metadata": {},
   "outputs": [
    {
     "data": {
      "text/plain": [
       "8482232.534444444"
      ]
     },
     "execution_count": 31,
     "metadata": {},
     "output_type": "execute_result"
    }
   ],
   "source": [
    "df[\"f_3\"].var()"
   ]
  },
  {
   "cell_type": "code",
   "execution_count": 32,
   "metadata": {},
   "outputs": [
    {
     "data": {
      "text/plain": [
       "0.8861137630805014"
      ]
     },
     "execution_count": 32,
     "metadata": {},
     "output_type": "execute_result"
    }
   ],
   "source": [
    "# 対数を取る\n",
    "df[\"f_3\"].apply(lambda x: np.log(1 + x)).var()"
   ]
  },
  {
   "cell_type": "code",
   "execution_count": 33,
   "metadata": {},
   "outputs": [
    {
     "data": {
      "text/plain": [
       "(array([ 2.,  1.,  4.,  4.,  4., 11.,  4., 15., 25., 30.]),\n",
       " array([5.22574667, 5.62364447, 6.02154227, 6.41944006, 6.81733786,\n",
       "        7.21523565, 7.61313345, 8.01103125, 8.40892904, 8.80682684,\n",
       "        9.20472463]),\n",
       " <BarContainer object of 10 artists>)"
      ]
     },
     "execution_count": 33,
     "metadata": {},
     "output_type": "execute_result"
    },
    {
     "data": {
      "image/png": "[encoded data removed]",
      "text/plain": [
       "<Figure size 640x480 with 1 Axes>"
      ]
     },
     "metadata": {},
     "output_type": "display_data"
    }
   ],
   "source": [
    "plt.hist(df[\"f_3\"].apply(lambda x: np.log(1 + x)))"
   ]
  },
  {
   "cell_type": "code",
   "execution_count": 34,
   "metadata": {},
   "outputs": [
    {
     "data": {
      "text/plain": [
       "array([42, 45, 22, 37, 47,  7,  3, 52, 25, 30])"
      ]
     },
     "execution_count": 34,
     "metadata": {},
     "output_type": "execute_result"
    }
   ],
   "source": [
    "# K近傍法で量的変数の欠損値補完\n",
    "from sklearn import impute\n",
    "\n",
    "# 1~15 の値をランダムに取る 10 * 6 の行列\n",
    "X = np.random.randint(1, 15, (10, 6)).astype(float)\n",
    "# ランダムに10個欠損値にするための乱数生成\n",
    "np.random.choice(X.size, 10)"
   ]
  },
  {
   "cell_type": "code",
   "execution_count": 36,
   "metadata": {},
   "outputs": [
    {
     "name": "stdout",
     "output_type": "stream",
     "text": [
      "[[ 4. nan 13.  8. 10. 10.]\n",
      " [ 6. 10. nan  5. nan nan]\n",
      " [14. nan nan  7. 14. 14.]\n",
      " [ 1. nan nan  6. 10. nan]\n",
      " [ 3. 10. 14. 14.  7. 13.]\n",
      " [ 9. 11.  4.  1.  8.  3.]\n",
      " [ 7.  8.  1.  1.  9.  2.]\n",
      " [ 4.  1. 12.  1.  7. nan]\n",
      " [ 2.  6. 13. 11.  9.  2.]\n",
      " [ 8. 10. 12.  5.  8.  5.]]\n"
     ]
    }
   ],
   "source": [
    "# ランダムに10個欠損値にする\n",
    "X.ravel()[np.random.choice(X.size, 10)] = np.nan\n",
    "print(X)"
   ]
  },
  {
   "cell_type": "code",
   "execution_count": 37,
   "metadata": {},
   "outputs": [
    {
     "data": {
      "text/plain": [
       "array([[ 4. , 10. , 13. ,  8. , 10. , 10. ],\n",
       "       [ 6. , 10. , 12.5,  5. ,  9. ,  7.5],\n",
       "       [14. , 10. , 12.5,  7. , 14. , 14. ],\n",
       "       [ 1. ,  8. , 13. ,  6. , 10. ,  6. ],\n",
       "       [ 3. , 10. , 14. , 14. ,  7. , 13. ],\n",
       "       [ 9. , 11. ,  4. ,  1. ,  8. ,  3. ],\n",
       "       [ 7. ,  8. ,  1. ,  1. ,  9. ,  2. ],\n",
       "       [ 4. ,  1. , 12. ,  1. ,  7. ,  7.5],\n",
       "       [ 2. ,  6. , 13. , 11. ,  9. ,  2. ],\n",
       "       [ 8. , 10. , 12. ,  5. ,  8. ,  5. ]])"
      ]
     },
     "execution_count": 37,
     "metadata": {},
     "output_type": "execute_result"
    }
   ],
   "source": [
    "# 2つの近傍を利用して欠損値補完\n",
    "knn_imputer = impute.KNNImputer(n_neighbors=2)\n",
    "knn_imputer.fit_transform(X)"
   ]
  },
  {
   "cell_type": "code",
   "execution_count": null,
   "metadata": {},
   "outputs": [],
   "source": []
  }
 ],
 "metadata": {
  "kernelspec": {
   "display_name": "Python 3",
   "language": "python",
   "name": "python3"
  },
  "language_info": {
   "codemirror_mode": {
    "name": "ipython",
    "version": 3
   },
   "file_extension": ".py",
   "mimetype": "text/x-python",
   "name": "python",
   "nbconvert_exporter": "python",
   "pygments_lexer": "ipython3",
   "version": "3.10.9"
  },
  "orig_nbformat": 4,
  "vscode": {
   "interpreter": {
    "hash": "f8e13222e0ccb19a569db654497a46e5889a3ae4a912027a69065218b5fe4005"
   }
  }
 },
 "nbformat": 4,
 "nbformat_minor": 2
}
