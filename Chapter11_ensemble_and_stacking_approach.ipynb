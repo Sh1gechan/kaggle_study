{
 "cells": [
  {
   "cell_type": "code",
   "execution_count": 1,
   "metadata": {},
   "outputs": [],
   "source": [
    "import numpy as np\n",
    "\n",
    "\n",
    "def mean_predictions(probas):\n",
    "    \"\"\"\n",
    "    予測確率の平均を算出\n",
    "    \n",
    "    :param probas: (データ数, モデルごとの予測確率カラム数) の二次元配列\n",
    "    :return: 予測確率の平均\n",
    "    \"\"\"\n",
    "    return np.mean(probas, axis=1)\n",
    "\n",
    "def max_voting(preds):\n",
    "    \"\"\"\n",
    "    最も投票されたクラスを算出\n",
    "    :param preds: (データ数、モデルごとの予測値（予測クラス）カラム数)の二次元配列\n",
    "    :return: 最も投票されたクラスを表す行列\n",
    "    \"\"\"\n",
    "    idxs = np.argmax(preds, axis=1)\n",
    "    # axis=1で横にソート。デフォルトと同じ動作\n",
    "    # predsを予測値ごとにソート\n",
    "    return np.take_along_axis(preds, idxs[:, None], axis=1)"
   ]
  },
  {
   "cell_type": "code",
   "execution_count": 2,
   "metadata": {},
   "outputs": [
    {
     "data": {
      "text/plain": [
       "array([0.2, 0.8, 0.6])"
      ]
     },
     "execution_count": 2,
     "metadata": {},
     "output_type": "execute_result"
    }
   ],
   "source": [
    "probas = [[0.1,0.2,0.3],[0.9,0.8,0.7],[0.5,0.4,0.9]]\n",
    "mean_predictions(probas)"
   ]
  },
  {
   "cell_type": "code",
   "execution_count": 3,
   "metadata": {},
   "outputs": [
    {
     "data": {
      "text/plain": [
       "array([[1],\n",
       "       [2],\n",
       "       [2]])"
      ]
     },
     "execution_count": 3,
     "metadata": {},
     "output_type": "execute_result"
    }
   ],
   "source": [
    "preds = np.array([\n",
    "    [0,0,1],\n",
    "    [0,1,2],\n",
    "    [2,2,2]\n",
    "])\n",
    "max_voting(preds)"
   ]
  },
  {
   "cell_type": "code",
   "execution_count": null,
   "metadata": {},
   "outputs": [],
   "source": []
  }
 ],
 "metadata": {
  "kernelspec": {
   "display_name": "Python 3",
   "language": "python",
   "name": "python3"
  },
  "language_info": {
   "codemirror_mode": {
    "name": "ipython",
    "version": 3
   },
   "file_extension": ".py",
   "mimetype": "text/x-python",
   "name": "python",
   "nbconvert_exporter": "python",
   "pygments_lexer": "ipython3",
   "version": "3.10.9"
  },
  "orig_nbformat": 4,
  "vscode": {
   "interpreter": {
    "hash": "f8e13222e0ccb19a569db654497a46e5889a3ae4a912027a69065218b5fe4005"
   }
  }
 },
 "nbformat": 4,
 "nbformat_minor": 2
}
