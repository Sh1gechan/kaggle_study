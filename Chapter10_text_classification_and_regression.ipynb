{
 "cells": [
  {
   "cell_type": "code",
   "execution_count": 1,
   "metadata": {},
   "outputs": [],
   "source": [
    "def find_sentiment(sentence, pos, neg):\n",
    "    \n",
    "    \"\"\" 文章の感情を返す関数 \n",
    "    :param sentence: 文章, string型  \n",
    "    :param pos: 肯定的な単語のセット \n",
    "    :param neg: 否定的な単語のセット\n",
    "    :return: 肯定的、否定的、中立的のいずれか \"\"\" \n",
    "    \n",
    "    #半角スペースで文章を追加\n",
    "    #\"this is a sentence!\" は: \n",
    "    #[\"this\", \"is\" \"a\", \"sentence!\"] になる\n",
    "    #ここでは一つ以上の半角スペースで区切っている\n",
    "    #もし意図的に一つの半角スペースで区切りたい場合 .split(\"\")を使う \n",
    "    sentence = sentence.split() \n",
    "    \n",
    "    #文のリストをセットに変換\n",
    "    sentence = set(sentence) \n",
    "    #肯定的な単語のセットと共通している単語数\n",
    "    num_common_pos = len(sentence.intersection(pos)) \n",
    "    \n",
    "    #否定的な単語のセットと共通している単語数\n",
    "    num_common_neg = len(sentence.intersection(neg)) \n",
    "    \n",
    "    #条件分岐\n",
    "    #早期リターンで if else を回避\n",
    "    \n",
    "    if num_common_pos > num_common_neg:\n",
    "        return \"positive\" \n",
    "    \n",
    "    if num_common_pos < num_common_neg:\n",
    "        return \"negative\" \n",
    "    \n",
    "    return \"neutral\" "
   ]
  },
  {
   "cell_type": "code",
   "execution_count": 3,
   "metadata": {},
   "outputs": [
    {
     "name": "stderr",
     "output_type": "stream",
     "text": [
      "[nltk_data] Downloading package punkt to\n",
      "[nltk_data]     C:\\Users\\rebor\\AppData\\Roaming\\nltk_data...\n",
      "[nltk_data]   Unzipping tokenizers\\punkt.zip.\n"
     ]
    },
    {
     "data": {
      "text/plain": [
       "True"
      ]
     },
     "execution_count": 3,
     "metadata": {},
     "output_type": "execute_result"
    }
   ],
   "source": [
    "import nltk\n",
    "nltk.download('punkt')"
   ]
  },
  {
   "cell_type": "code",
   "execution_count": 4,
   "metadata": {},
   "outputs": [
    {
     "data": {
      "text/plain": [
       "['hi,', 'how', 'are', 'you?']"
      ]
     },
     "execution_count": 4,
     "metadata": {},
     "output_type": "execute_result"
    }
   ],
   "source": [
    "from nltk.tokenize import word_tokenize\n",
    "\n",
    "sentence = \"hi, how are you?\"\n",
    "\n",
    "\n",
    "sentence.split()"
   ]
  },
  {
   "cell_type": "code",
   "execution_count": 5,
   "metadata": {},
   "outputs": [
    {
     "data": {
      "text/plain": [
       "['hi', ',', 'how', 'are', 'you', '?']"
      ]
     },
     "execution_count": 5,
     "metadata": {},
     "output_type": "execute_result"
    }
   ],
   "source": [
    "word_tokenize(sentence)"
   ]
  },
  {
   "cell_type": "code",
   "execution_count": 6,
   "metadata": {},
   "outputs": [],
   "source": [
    "from sklearn.feature_extraction.text import CountVectorizer \n",
    "#文章のコーパスを作成\n",
    "corpus = [ \"hello, how are you?\", \n",
    "          \"im getting bored at home. And you? What do you think?\",\n",
    "          \"did you know about counts\", \"let's see if this works!\", \"YES!!!!\" ] \n",
    "\n",
    "#initialize CountVectorizer \n",
    "ctv = CountVectorizer() \n",
    "#学習\n",
    "ctv.fit(corpus) \n",
    "\n",
    "corpus_transformed = ctv.transform(corpus) "
   ]
  },
  {
   "cell_type": "code",
   "execution_count": 7,
   "metadata": {},
   "outputs": [
    {
     "name": "stdout",
     "output_type": "stream",
     "text": [
      "  (0, 2)\t1\n",
      "  (0, 9)\t1\n",
      "  (0, 11)\t1\n",
      "  (0, 22)\t1\n",
      "  (1, 1)\t1\n",
      "  (1, 3)\t1\n",
      "  (1, 4)\t1\n",
      "  (1, 7)\t1\n",
      "  (1, 8)\t1\n",
      "  (1, 10)\t1\n",
      "  (1, 13)\t1\n",
      "  (1, 17)\t1\n",
      "  (1, 19)\t1\n",
      "  (1, 22)\t2\n",
      "  (2, 0)\t1\n",
      "  (2, 5)\t1\n",
      "  (2, 6)\t1\n",
      "  (2, 14)\t1\n",
      "  (2, 22)\t1\n",
      "  (3, 12)\t1\n",
      "  (3, 15)\t1\n",
      "  (3, 16)\t1\n",
      "  (3, 18)\t1\n",
      "  (3, 20)\t1\n",
      "  (4, 21)\t1\n"
     ]
    }
   ],
   "source": [
    "print(corpus_transformed)"
   ]
  },
  {
   "cell_type": "code",
   "execution_count": 8,
   "metadata": {},
   "outputs": [
    {
     "name": "stdout",
     "output_type": "stream",
     "text": [
      "{'hello': 9, 'how': 11, 'are': 2, 'you': 22, 'im': 13, 'getting': 8, 'bored': 4, 'at': 3, 'home': 10, 'and': 1, 'what': 19, 'do': 7, 'think': 17, 'did': 6, 'know': 14, 'about': 0, 'counts': 5, 'let': 15, 'see': 16, 'if': 12, 'this': 18, 'works': 20, 'yes': 21}\n"
     ]
    }
   ],
   "source": [
    "print(ctv.vocabulary_)"
   ]
  },
  {
   "cell_type": "code",
   "execution_count": 9,
   "metadata": {},
   "outputs": [
    {
     "name": "stdout",
     "output_type": "stream",
     "text": [
      "{'hello': 14, ',': 2, 'how': 16, 'are': 7, 'you': 27, '?': 4, 'im': 18, 'getting': 13, 'bored': 9, 'at': 8, 'home': 15, '.': 3, 'and': 6, 'what': 24, 'do': 12, 'think': 22, 'did': 11, 'know': 19, 'about': 5, 'counts': 10, 'let': 20, \"'s\": 1, 'see': 21, 'if': 17, 'this': 23, 'works': 25, '!': 0, 'yes': 26}\n"
     ]
    }
   ],
   "source": [
    "from sklearn.feature_extraction.text import CountVectorizer \n",
    "from nltk.tokenize import word_tokenize \n",
    "\n",
    "#文章のコーパスを作成\n",
    "corpus = [ \"hello, how are you?\", \n",
    "          \"im getting bored at home. And you? What do you think?\", \n",
    "          \"did you know about counts\", \"let's see if this works!\", \n",
    "          \"YES!!!!\" ] \n",
    "\n",
    "#tokenizerにnltkのword_tokenizeを指定してCountVectorizerを初期化\n",
    "\n",
    "\n",
    "ctv = CountVectorizer(tokenizer=word_tokenize, token_pattern=None) \n",
    "\n",
    "#fit the vectorizer on corpus \n",
    "ctv.fit(corpus) \n",
    "\n",
    "corpus_transformed = ctv.transform(corpus) \n",
    "\n",
    "print(ctv.vocabulary_) "
   ]
  },
  {
   "cell_type": "code",
   "execution_count": 11,
   "metadata": {},
   "outputs": [
    {
     "name": "stdout",
     "output_type": "stream",
     "text": [
      "  (0, 27)\t0.2965698850220162\n",
      "  (0, 16)\t0.4428321995085722\n",
      "  (0, 14)\t0.4428321995085722\n",
      "  (0, 7)\t0.4428321995085722\n",
      "  (0, 4)\t0.35727423026525224\n",
      "  (0, 2)\t0.4428321995085722\n",
      "  (1, 27)\t0.35299699146792735\n",
      "  (1, 24)\t0.2635440111190765\n",
      "  (1, 22)\t0.2635440111190765\n",
      "  (1, 18)\t0.2635440111190765\n",
      "  (1, 15)\t0.2635440111190765\n",
      "  (1, 13)\t0.2635440111190765\n",
      "  (1, 12)\t0.2635440111190765\n",
      "  (1, 9)\t0.2635440111190765\n",
      "  (1, 8)\t0.2635440111190765\n",
      "  (1, 6)\t0.2635440111190765\n",
      "  (1, 4)\t0.42525129752567803\n",
      "  (1, 3)\t0.2635440111190765\n",
      "  (2, 27)\t0.31752680284846835\n",
      "  (2, 19)\t0.4741246485558491\n",
      "  (2, 11)\t0.4741246485558491\n",
      "  (2, 10)\t0.4741246485558491\n",
      "  (2, 5)\t0.4741246485558491\n",
      "  (3, 25)\t0.38775666010579296\n",
      "  (3, 23)\t0.38775666010579296\n",
      "  (3, 21)\t0.38775666010579296\n",
      "  (3, 20)\t0.38775666010579296\n",
      "  (3, 17)\t0.38775666010579296\n",
      "  (3, 1)\t0.38775666010579296\n",
      "  (3, 0)\t0.3128396318588854\n",
      "  (4, 26)\t0.2959842226518677\n",
      "  (4, 0)\t0.9551928286692534\n"
     ]
    }
   ],
   "source": [
    "from sklearn.feature_extraction.text import TfidfVectorizer \n",
    "from nltk.tokenize import word_tokenize \n",
    "\n",
    "#文章のコーパスを作成 \n",
    "corpus = [\"hello, how are you?\", \n",
    "          \"im getting bored at home. And you? What do you think?\",\n",
    "          \"did you know about counts\", \n",
    "          \"let's see if this works!\", \n",
    "          \"YES!!!!\" ] \n",
    "\n",
    "#tokenizerにnltkのword_tokenizeを指定してTfidfVectorizer を初期化 \n",
    "tfv = TfidfVectorizer(tokenizer=word_tokenize, token_pattern=None) \n",
    "#学習\n",
    "tfv.fit(corpus) \n",
    "corpus_transformed = tfv.transform(corpus) \n",
    "print(corpus_transformed)"
   ]
  },
  {
   "cell_type": "code",
   "execution_count": 12,
   "metadata": {},
   "outputs": [
    {
     "name": "stdout",
     "output_type": "stream",
     "text": [
      "[('hi', ',', 'how'), (',', 'how', 'are'), ('how', 'are', 'you'), ('are', 'you', '?')]\n"
     ]
    }
   ],
   "source": [
    "from nltk import ngrams \n",
    "from nltk.tokenize import word_tokenize \n",
    "#3 grams \n",
    "N = 3 \n",
    "\n",
    "#input sentence \n",
    "sentence = \"hi, how are you?\" \n",
    "\n",
    "#tokenized sentence \n",
    "tokenized_sentence = word_tokenize(sentence) \n",
    "\n",
    "#generate n_grams \n",
    "n_grams = list(ngrams(tokenized_sentence, N)) \n",
    "print(n_grams)"
   ]
  },
  {
   "cell_type": "code",
   "execution_count": 13,
   "metadata": {},
   "outputs": [],
   "source": [
    "from sklearn.feature_extraction.text import TfidfVectorizer\n",
    "tdidf_vsc = TfidfVectorizer(\n",
    "                            tokenizer = word_tokenize,\n",
    "                            token_pattern = None,\n",
    "                            ngram_range= (1,3)\n",
    ")"
   ]
  },
  {
   "cell_type": "code",
   "execution_count": 16,
   "metadata": {},
   "outputs": [
    {
     "name": "stderr",
     "output_type": "stream",
     "text": [
      "[nltk_data] Downloading package wordnet to\n",
      "[nltk_data]     C:\\Users\\rebor\\AppData\\Roaming\\nltk_data...\n"
     ]
    },
    {
     "data": {
      "text/plain": [
       "True"
      ]
     },
     "execution_count": 16,
     "metadata": {},
     "output_type": "execute_result"
    }
   ],
   "source": [
    "# wordnetの導入\n",
    "# 本にはない\n",
    "# look up error対策\n",
    "nltk.download('wordnet')"
   ]
  },
  {
   "cell_type": "code",
   "execution_count": 17,
   "metadata": {},
   "outputs": [
    {
     "name": "stdout",
     "output_type": "stream",
     "text": [
      "word=fishing\n",
      "stemmed_word=fish\n",
      "lemma=fishing\n",
      "\n",
      "word=fishes\n",
      "stemmed_word=fish\n",
      "lemma=fish\n",
      "\n",
      "word=fished\n",
      "stemmed_word=fish\n",
      "lemma=fished\n",
      "\n"
     ]
    }
   ],
   "source": [
    "from nltk.stem import WordNetLemmatizer \n",
    "from nltk.stem.snowball import SnowballStemmer \n",
    "\n",
    "#initialize lemmatizer \n",
    "lemmatizer = WordNetLemmatizer()\n",
    "\n",
    "#initialize stemmer \n",
    "stemmer = SnowballStemmer(\"english\") \n",
    "words = [\"fishing\", \"fishes\", \"fished\"] \n",
    "for word in words:\n",
    "    print(f\"word={word}\") \n",
    "    print(f\"stemmed_word={stemmer.stem(word)}\") \n",
    "    print(f\"lemma={lemmatizer.lemmatize(word)}\") \n",
    "    print(\"\")"
   ]
  },
  {
   "cell_type": "code",
   "execution_count": null,
   "metadata": {},
   "outputs": [],
   "source": []
  }
 ],
 "metadata": {
  "kernelspec": {
   "display_name": "Python 3",
   "language": "python",
   "name": "python3"
  },
  "language_info": {
   "codemirror_mode": {
    "name": "ipython",
    "version": 3
   },
   "file_extension": ".py",
   "mimetype": "text/x-python",
   "name": "python",
   "nbconvert_exporter": "python",
   "pygments_lexer": "ipython3",
   "version": "3.10.9"
  },
  "orig_nbformat": 4,
  "vscode": {
   "interpreter": {
    "hash": "f8e13222e0ccb19a569db654497a46e5889a3ae4a912027a69065218b5fe4005"
   }
  }
 },
 "nbformat": 4,
 "nbformat_minor": 2
}
